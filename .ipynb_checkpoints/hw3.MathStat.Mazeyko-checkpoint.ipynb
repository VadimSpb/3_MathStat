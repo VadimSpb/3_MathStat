{
 "cells": [
  {
   "cell_type": "markdown",
   "metadata": {},
   "source": [
    "# III четверть\n",
    "# Курс: Теория вероятностей и математическая статистика\n",
    "## <a href = \"https://geekbrains.ru/lessons/52182\">Урок 3. Описательная статистика. Качественные и количественные характеристики популяции. Графическое представление данных</a>\n",
    "### Домашнюю работу выполнил <a href = \"https://geekbrains.ru/users/3293490\">Мазейко Вадим</a>"
   ]
  },
  {
   "cell_type": "markdown",
   "metadata": {},
   "source": [
    "### Задание 1. Даны значения зарплат из выборки выпускников: 100, 80, 75, 77, 89, 33, 45, 25, 65, 17, 30, 24, 57, 55, 70, 75, 65, 84, 90, 150. Посчитать (желательно без использования статистических методов наподобие std, var, mean) среднее арифметическое, среднее квадратичное отклонение, смещенную и несмещенную оценки дисперсий для данной выборки."
   ]
  },
  {
   "cell_type": "code",
   "execution_count": 47,
   "metadata": {},
   "outputs": [],
   "source": [
    "import numpy as np\n",
    "from math import factorial as f"
   ]
  },
  {
   "cell_type": "code",
   "execution_count": 2,
   "metadata": {},
   "outputs": [],
   "source": [
    "s = [100, 80, 75, 77, 89, 33, \n",
    "     45, 25, 65, 17, 30, 24, 57, \n",
    "     55, 70, 75, 65, 84, 90, 150]"
   ]
  },
  {
   "cell_type": "markdown",
   "metadata": {},
   "source": [
    "среднее арифметическое:"
   ]
  },
  {
   "cell_type": "code",
   "execution_count": 9,
   "metadata": {},
   "outputs": [
    {
     "data": {
      "text/plain": [
       "65.3"
      ]
     },
     "execution_count": 9,
     "metadata": {},
     "output_type": "execute_result"
    }
   ],
   "source": [
    "μ = sum(s) / len(s)\n",
    "μ"
   ]
  },
  {
   "cell_type": "code",
   "execution_count": 31,
   "metadata": {},
   "outputs": [
    {
     "data": {
      "text/plain": [
       "True"
      ]
     },
     "execution_count": 31,
     "metadata": {},
     "output_type": "execute_result"
    }
   ],
   "source": [
    "np.mean(s) == μ"
   ]
  },
  {
   "cell_type": "markdown",
   "metadata": {},
   "source": [
    "среднее квадратичное отклонение:"
   ]
  },
  {
   "cell_type": "code",
   "execution_count": 32,
   "metadata": {
    "scrolled": true
   },
   "outputs": [
    {
     "data": {
      "text/plain": [
       "30.823854398825596"
      ]
     },
     "execution_count": 32,
     "metadata": {},
     "output_type": "execute_result"
    }
   ],
   "source": [
    "σ = np.sqrt(sum([(x - μ)**2 for x in s])/len(s))\n",
    "σ"
   ]
  },
  {
   "cell_type": "code",
   "execution_count": 35,
   "metadata": {},
   "outputs": [
    {
     "data": {
      "text/plain": [
       "True"
      ]
     },
     "execution_count": 35,
     "metadata": {},
     "output_type": "execute_result"
    }
   ],
   "source": [
    "np.std(s) == σ"
   ]
  },
  {
   "cell_type": "markdown",
   "metadata": {},
   "source": [
    "смещённая оценка дисперсии:"
   ]
  },
  {
   "cell_type": "code",
   "execution_count": 38,
   "metadata": {},
   "outputs": [
    {
     "data": {
      "text/plain": [
       "950.11"
      ]
     },
     "execution_count": 38,
     "metadata": {},
     "output_type": "execute_result"
    }
   ],
   "source": [
    "S = sum([(x - μ)**2 for x in s])/len(s)\n",
    "S"
   ]
  },
  {
   "cell_type": "code",
   "execution_count": 41,
   "metadata": {},
   "outputs": [
    {
     "data": {
      "text/plain": [
       "True"
      ]
     },
     "execution_count": 41,
     "metadata": {},
     "output_type": "execute_result"
    }
   ],
   "source": [
    "np.var(s) == S"
   ]
  },
  {
   "cell_type": "markdown",
   "metadata": {},
   "source": [
    "несмещённая оценка дисперсии:"
   ]
  },
  {
   "cell_type": "code",
   "execution_count": 42,
   "metadata": {},
   "outputs": [
    {
     "data": {
      "text/plain": [
       "1000.1157894736842"
      ]
     },
     "execution_count": 42,
     "metadata": {},
     "output_type": "execute_result"
    }
   ],
   "source": [
    "S1 = sum([(x - μ)**2 for x in s])/(len(s) - 1)\n",
    "S1"
   ]
  },
  {
   "cell_type": "code",
   "execution_count": 44,
   "metadata": {},
   "outputs": [
    {
     "data": {
      "text/plain": [
       "True"
      ]
     },
     "execution_count": 44,
     "metadata": {},
     "output_type": "execute_result"
    }
   ],
   "source": [
    "np.var(s, ddof = 1) == S1"
   ]
  },
  {
   "cell_type": "markdown",
   "metadata": {},
   "source": [
    "### Задание 2. В первом ящике находится 8 мячей, из которых 5 - белые. Во втором ящике - 12 мячей, из которых 5 белых. Из первого ящика вытаскивают случайным образом два мяча, из второго - 4. Какова вероятность того, что 3 мяча белые?"
   ]
  },
  {
   "cell_type": "markdown",
   "metadata": {},
   "source": [
    "<div>Разобъём задачу на несколько частей: \n",
    "<div>1. первый ящик - 2 белых мяча, второй ящик - 1 белый мяч \n",
    "<div>2. первый ящик - 1 белый мяч, второй ящик - 2 белых мяча\n",
    "<div>3. первый ящик - 0 белых мячей, второй ящик - 3 белых мяча"
   ]
  },
  {
   "cell_type": "markdown",
   "metadata": {},
   "source": [
    "Так как в каждом случае мы рассматриваем общую вероятность несовместных событий, вероятности перемножатся. В общем виде для каждой из комбинаций формула будет выглядеть следующим образом:\n",
    "$$ C_{варианта} = C_{1\\:ящик} * C_{2\\:ящик}$$\n",
    "\n",
    "где:\n",
    "$$ C_{ящика} = \\frac{C_{комбинаций\\:с\\:белым\\:шаром}  * C_{комбинаций\\:с\\:черным\\:шаром}}{C_{общее\\:количество\\:комбинаций}}$$"
   ]
  },
  {
   "cell_type": "code",
   "execution_count": 76,
   "metadata": {},
   "outputs": [],
   "source": [
    "# Создадим функцию для расчёта количества комбинаций:\n",
    "def C(n,k):\n",
    "    return int(f(n) / (f(k) * f((n-k))))"
   ]
  },
  {
   "cell_type": "markdown",
   "metadata": {},
   "source": [
    "Рассмотрим 1 вариант (первый ящик - 2 белых мяча, второй ящик - 1 белый мяч):"
   ]
  },
  {
   "cell_type": "code",
   "execution_count": 90,
   "metadata": {},
   "outputs": [
    {
     "data": {
      "text/plain": [
       "0.12626262626262627"
      ]
     },
     "execution_count": 90,
     "metadata": {},
     "output_type": "execute_result"
    }
   ],
   "source": [
    "C11 = C(5,2) * C(3,0) / C(8,2) # Вероятность достать 2 белых шара из первого ящика\n",
    "C12 = C(5,1) * C(7,3) / C(12,4) # Вероятность достать 1 белый шар из второго ящика\n",
    "C1 = C11 * C12\n",
    "C1"
   ]
  },
  {
   "cell_type": "markdown",
   "metadata": {},
   "source": [
    "Рассмотрим 2 вариант (первый ящик - 1 белый мяч, второй ящик - 2 белых мяча):"
   ]
  },
  {
   "cell_type": "code",
   "execution_count": 91,
   "metadata": {},
   "outputs": [
    {
     "data": {
      "text/plain": [
       "0.22727272727272727"
      ]
     },
     "execution_count": 91,
     "metadata": {},
     "output_type": "execute_result"
    }
   ],
   "source": [
    "C21 = C(5,1) * C(3,1) / C(8,2) # Вероятность достать 1 белый шар из первого ящика\n",
    "C22 = C(5,2) * C(7,2) / C(12,4) # Вероятность достать 2 белых шара из второго ящика\n",
    "C2 = C21 * C22\n",
    "C2"
   ]
  },
  {
   "cell_type": "markdown",
   "metadata": {},
   "source": [
    "Рассмотрим 3 вариант (первый ящик - 0 белых мячей, второй ящик - 3 белых мяча):"
   ]
  },
  {
   "cell_type": "code",
   "execution_count": 92,
   "metadata": {},
   "outputs": [
    {
     "data": {
      "text/plain": [
       "0.01515151515151515"
      ]
     },
     "execution_count": 92,
     "metadata": {},
     "output_type": "execute_result"
    }
   ],
   "source": [
    "C31 = C(5,0) * C(3,2) / C(8,2) # Вероятность достать 0 белых шаров из первого ящика\n",
    "C32 = C(5,3) * C(7,1) / C(12,4) # Вероятность достать 3 белых шаров из второго ящика\n",
    "C3 = C31 * C32\n",
    "C3"
   ]
  },
  {
   "cell_type": "markdown",
   "metadata": {},
   "source": [
    "Общая вероятность события:"
   ]
  },
  {
   "cell_type": "code",
   "execution_count": 93,
   "metadata": {},
   "outputs": [
    {
     "data": {
      "text/plain": [
       "0.3686868686868687"
      ]
     },
     "execution_count": 93,
     "metadata": {},
     "output_type": "execute_result"
    }
   ],
   "source": [
    "C1 + C2 + C3"
   ]
  },
  {
   "cell_type": "markdown",
   "metadata": {},
   "source": [
    "### Задание 3. На соревновании по биатлону один из трех спортсменов стреляет и попадает в мишень. Вероятность попадания для первого спортсмена равна 0.9, для второго — 0.8, для третьего — 0.6. Найти вероятность того, что выстрел произведен: a). первым спортсменом б). вторым спортсменом в). третьим спортсменом."
   ]
  },
  {
   "cell_type": "code",
   "execution_count": null,
   "metadata": {},
   "outputs": [],
   "source": []
  },
  {
   "cell_type": "code",
   "execution_count": null,
   "metadata": {},
   "outputs": [],
   "source": []
  },
  {
   "cell_type": "code",
   "execution_count": null,
   "metadata": {},
   "outputs": [],
   "source": []
  },
  {
   "cell_type": "code",
   "execution_count": null,
   "metadata": {},
   "outputs": [],
   "source": []
  },
  {
   "cell_type": "markdown",
   "metadata": {},
   "source": [
    "\n",
    "\n",
    "В университет на факультеты A и B поступило равное количество студентов, а на факультет C студентов поступило столько же, сколько на A и B вместе. Вероятность того, что студент факультета A сдаст первую сессию, равна 0.8. Для студента факультета B эта вероятность равна 0.7, а для студента факультета C - 0.9. Студент сдал первую сессию. Какова вероятность, что он учится: a). на факультете A б). на факультете B в). на факультете C?\n",
    "Устройство состоит из трех деталей. Для первой детали вероятность выйти из строя в первый месяц равна 0.1, для второй - 0.2, для третьей - 0.25. Какова вероятность того, что в первый месяц выйдут из строя: а). все детали б). только две детали в). хотя бы одна деталь г). от одной до двух деталей?"
   ]
  },
  {
   "cell_type": "markdown",
   "metadata": {},
   "source": [
    "### Задание 1. Вероятность того, что стрелок попадет в мишень, выстрелив один раз, равна 0.8. Стрелок выстрелил 100 раз. Найдите вероятность того, что стрелок попадет в цель ровно 85 раз."
   ]
  },
  {
   "cell_type": "markdown",
   "metadata": {},
   "source": [
    "В задании есть подсказка - нужно посчитать вероятность конкретного количественного события. Для этого воспользуемся <a href='https://ru.wikipedia.org/wiki/Формула_Бернулли'>формулой Бернулли:</a>"
   ]
  },
  {
   "cell_type": "markdown",
   "metadata": {},
   "source": [
    "### $ P^{k}_{n} = C^{k}_{n}p^{k}q^{n-k} $"
   ]
  },
  {
   "cell_type": "markdown",
   "metadata": {},
   "source": [
    "<div>Вероятность попадания стрелка в мишень (p): <b>p = 0.8</b>\n",
    "<div>Вероятность обратного события (того, что стрелок не попадёт в цель): <b>q = 1 - p = 1 - 0.8 = 0.2</b>\n",
    "<div>Число попыток <b>n = 100 </b>\n",
    "<div>Искомое число попаданий: <b> k = 85</b>"
   ]
  },
  {
   "cell_type": "markdown",
   "metadata": {},
   "source": [
    "Вспоминаем формулу для расчёта количества возможных комбинаций:\n",
    "$$ C_{n}^{k} = \\frac{n!}{(n-k)!*n!} = C_{3}^{100} =\\frac{100!}{(100-85)!*85!}  $$"
   ]
  },
  {
   "cell_type": "markdown",
   "metadata": {},
   "source": [
    "Подставляем данные в формулу:"
   ]
  },
  {
   "cell_type": "markdown",
   "metadata": {},
   "source": [
    "### $$ P^{85}_{100} = C^{k}_{n}p^{k}*q^{n-k} = \n",
    "\\frac{100!}{(100-85)!*85!} * 0.8^{85} * 0.2^{100-85} ≈ 0.48 $$"
   ]
  },
  {
   "cell_type": "markdown",
   "metadata": {},
   "source": [
    "### Задание 2. Вероятность того, что лампочка перегорит в течение первого дня эксплуатации, равна 0.0004. В жилом комплексе после ремонта в один день включили 5000 новых лампочек. Какова вероятность, что ни одна из них не перегорит в первый день? Какова вероятность, что перегорят ровно две?"
   ]
  },
  {
   "cell_type": "markdown",
   "metadata": {},
   "source": [
    "<div>Вероятность перегорания лампочки в первый день эксплуатации <b> p = 0.0004</b>\n",
    "<div>Число новых ламп, установленных в доме <b>n = 5 000</b>\n",
    "    "
   ]
  },
  {
   "cell_type": "markdown",
   "metadata": {},
   "source": [
    "Так как вероятность совершения события исчезающе мало, используем формулу <a href='https://ru.wikipedia.org/wiki/Распределение_Пуассона'> распределения Пуассона</a>:\n",
    "### $$p_{m} ≈\\:\\frac{λ^{m}}{m!}e^{-λ}$$"
   ]
  },
  {
   "cell_type": "markdown",
   "metadata": {},
   "source": [
    "λ = 5000 * 0.0004 = 2"
   ]
  },
  {
   "cell_type": "markdown",
   "metadata": {},
   "source": [
    "<div>Для m = 0:</div>\n",
    "<div>$p_{0} ≈\\:\\frac{2^{0}}{0!}e^{-2} ≈ 0.135$</div>"
   ]
  },
  {
   "cell_type": "markdown",
   "metadata": {},
   "source": [
    "<div>Для m = 2:</div>\n",
    "<div>$p_{2} ≈\\:\\frac{2^{2}}{2!}e^{-2} ≈ 0.27$</div>"
   ]
  },
  {
   "cell_type": "markdown",
   "metadata": {},
   "source": [
    "### Задание 3. Монету подбросили 144 раза. Какова вероятность, что орел выпадет ровно 70 раз?"
   ]
  },
  {
   "cell_type": "markdown",
   "metadata": {},
   "source": [
    "Снова используем  <a href='https://ru.wikipedia.org/wiki/Формула_Бернулли'>формулу Бернулли:</a>\n",
    "### $ P^{k}_{n} = C^{k}_{n}p^{k}q^{n-k} $"
   ]
  },
  {
   "cell_type": "markdown",
   "metadata": {},
   "source": [
    "<div>Вероятность попадания орла (p): <b>p = 0.5</b>\n",
    "<div>Вероятность обратного события (выпадет решка): <b>q = 1 - p = 1 - 0.5 = 0.5</b>\n",
    "<div>Число попыток <b>n = 144 </b>\n",
    "<div>Искомое число попаданий: <b> k = 70</b>"
   ]
  },
  {
   "cell_type": "markdown",
   "metadata": {},
   "source": [
    "$ P^{70}_{144} = \n",
    "\\frac{144!}{(144-70)!*70!} * 0.5^{70} * 0.5^{144-70} ≈ 0.0628$"
   ]
  },
  {
   "cell_type": "markdown",
   "metadata": {},
   "source": [
    "### Задание 4. В первом ящике находится 10 мячей, из которых 7 - белые. Во втором ящике - 11 мячей, из которых 9 белых. Из каждого ящика вытаскивают случайным образом по два мяча. Какова вероятность того, что все мячи белые? Какова вероятность того, что ровно два мяча белые? Какова вероятность того, что хотя бы один мяч белый?"
   ]
  },
  {
   "cell_type": "markdown",
   "metadata": {},
   "source": [
    "Разобъём задачу на несколько частей. Сначала посчитаем вероятность того, что вытащат два белых мяча из первого ящика. Для этого используем формулу расчёта количества комбинаций:\n",
    "$$ C_{n}^{k} = \\frac{n!}{(n-k)!*n!} $$"
   ]
  },
  {
   "cell_type": "markdown",
   "metadata": {},
   "source": [
    "<div> 1. Всех возможных комбинаций:\n",
    "<div> $ C_{10}^{2} = \\frac{10!}{(10-2)!*2!} = 45 $"
   ]
  },
  {
   "cell_type": "markdown",
   "metadata": {},
   "source": [
    "<div> 2. Количество комбинаций, когда оба вытянутых шара белые:\n",
    "<div> $ C_{7}^{2} = \\frac{7!}{(7-2)!*2!} = 21 $   "
   ]
  },
  {
   "cell_type": "markdown",
   "metadata": {},
   "source": [
    "Результат деления желаемых комбинаций (белый - белый) на общее количество и будет вероятностью вытянуть два белых шара: $P = \\frac{21}{45} \\approx 0.46(6)$"
   ]
  },
  {
   "cell_type": "markdown",
   "metadata": {},
   "source": [
    "Теперь посчитаем вероятность того, что вытащат два белых мяча из второго ящика:\n",
    "$P = \\frac{C_{9}^{2}}{C_{11}^{2}} = \\frac{\\frac{9!}{(9-2)!*2!}}{\\frac{11!}{(11-2)!*2!}} = \\frac{9!*(11-2)!*2!}{(9-2)!*2!*11!}  = \\frac{9!*9!*2!}{7!*2!*11!} = \\frac{9!^{2}}{7!*11!}\\approx 0.65(45) $"
   ]
  },
  {
   "cell_type": "markdown",
   "metadata": {},
   "source": [
    "\n"
   ]
  },
  {
   "cell_type": "markdown",
   "metadata": {},
   "source": [
    "Теперь рассчитаем вероятность наступления обоих событий перемножением вероятностей каждого события:"
   ]
  },
  {
   "cell_type": "code",
   "execution_count": 73,
   "metadata": {},
   "outputs": [
    {
     "data": {
      "text/plain": [
       "0.3054545454545455"
      ]
     },
     "execution_count": 73,
     "metadata": {},
     "output_type": "execute_result"
    }
   ],
   "source": [
    "(21/45)*(36/55)"
   ]
  },
  {
   "cell_type": "markdown",
   "metadata": {},
   "source": [
    "Расчитаем вероятность того, что хотя бы один шар из чётырех попарно вытянутых из двух ящиков шаров белый:"
   ]
  },
  {
   "cell_type": "code",
   "execution_count": 74,
   "metadata": {},
   "outputs": [
    {
     "data": {
      "text/plain": [
       "0.9915151515151515"
      ]
     },
     "execution_count": 74,
     "metadata": {},
     "output_type": "execute_result"
    }
   ],
   "source": [
    "from math import factorial as f\n",
    "\n",
    "def com(n,k):\n",
    "    return int(f(n) / (f(k) * f((n-k))))\n",
    "\n",
    "1 - (com(7,2) /  com(10,2)) * com(2,2) /  com(11,2)"
   ]
  }
 ],
 "metadata": {
  "kernelspec": {
   "display_name": "Python 3",
   "language": "python",
   "name": "python3"
  },
  "language_info": {
   "codemirror_mode": {
    "name": "ipython",
    "version": 3
   },
   "file_extension": ".py",
   "mimetype": "text/x-python",
   "name": "python",
   "nbconvert_exporter": "python",
   "pygments_lexer": "ipython3",
   "version": "3.7.3"
  }
 },
 "nbformat": 4,
 "nbformat_minor": 2
}
